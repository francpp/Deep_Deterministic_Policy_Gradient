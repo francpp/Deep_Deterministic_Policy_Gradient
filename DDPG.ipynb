{
 "cells": [
  {
   "cell_type": "markdown",
   "id": "ac032619-0db7-45e3-941e-2847c2648aa7",
   "metadata": {},
   "source": [
    "# DDPG PROJECT"
   ]
  },
  {
   "cell_type": "markdown",
   "id": "daab7139-73cb-447a-a74d-a57266a2df1f",
   "metadata": {
    "tags": []
   },
   "source": [
    "Import gym and define pendulum environment"
   ]
  },
  {
   "cell_type": "code",
   "execution_count": 113,
   "id": "104252cc-7c45-40c8-9ce4-0491b2261bbd",
   "metadata": {},
   "outputs": [],
   "source": [
    "import gym\n",
    "import numpy as np\n",
    "from matplotlib import pyplot as plt\n",
    "\n",
    "env = gym.make('Pendulum-v1', g=9.81, render_mode = 'human')"
   ]
  },
  {
   "cell_type": "markdown",
   "id": "07697ca8-6849-459e-baa9-2f0d30088e33",
   "metadata": {},
   "source": [
    "Check API-conformity"
   ]
  },
  {
   "cell_type": "code",
   "execution_count": 114,
   "id": "fa9c0451-5435-4c7d-9b30-b649bbeec6a5",
   "metadata": {},
   "outputs": [],
   "source": [
    "from gym.utils.env_checker import check_env\n",
    "check_env(env)"
   ]
  },
  {
   "cell_type": "markdown",
   "id": "8b5e5c47-7c70-43df-8674-912373b53cc8",
   "metadata": {},
   "source": [
    "Import helpers"
   ]
  },
  {
   "cell_type": "code",
   "execution_count": 115,
   "id": "971b7f9c-5f4e-4ac1-b67a-07c6db0e0739",
   "metadata": {},
   "outputs": [],
   "source": [
    "import helpers"
   ]
  },
  {
   "cell_type": "markdown",
   "id": "3503181b-a59e-4c22-9e8e-37600c011295",
   "metadata": {},
   "source": [
    "## Heuristic policy"
   ]
  },
  {
   "cell_type": "markdown",
   "id": "0cb838f9-6a3c-4c82-8749-f236921503b4",
   "metadata": {
    "tags": []
   },
   "source": [
    "##### Wrap environment in a NormalizedEnv class"
   ]
  },
  {
   "cell_type": "code",
   "execution_count": 116,
   "id": "9966ae2b-ed43-481b-8058-bdf9ed86db1f",
   "metadata": {},
   "outputs": [
    {
     "data": {
      "text/plain": [
       "<TimeLimit<OrderEnforcing<PassiveEnvChecker<PendulumEnv<Pendulum-v1>>>>>"
      ]
     },
     "execution_count": 116,
     "metadata": {},
     "output_type": "execute_result"
    }
   ],
   "source": [
    "env = gym.make('Pendulum-v1', g=9.81)\n",
    "# env = gym.make('Pendulum-v1', g=9.81, render_mode = 'human')\n",
    "env"
   ]
  },
  {
   "cell_type": "code",
   "execution_count": 117,
   "id": "4883213a-65b7-45df-b3be-bebcb5b455eb",
   "metadata": {},
   "outputs": [
    {
     "data": {
      "text/plain": [
       "<NormalizedEnv<TimeLimit<OrderEnforcing<PassiveEnvChecker<PendulumEnv<Pendulum-v1>>>>>>"
      ]
     },
     "execution_count": 117,
     "metadata": {},
     "output_type": "execute_result"
    }
   ],
   "source": [
    "env = helpers.NormalizedEnv(env)\n",
    "env"
   ]
  },
  {
   "cell_type": "markdown",
   "id": "dc28085c-6490-4b0b-82a2-5eb686020613",
   "metadata": {
    "tags": []
   },
   "source": [
    "##### RandomAgent"
   ]
  },
  {
   "cell_type": "code",
   "execution_count": 118,
   "id": "09f65200-e673-4d8c-8573-31fdb4b0cc2d",
   "metadata": {},
   "outputs": [],
   "source": [
    "random_agent = helpers.RandomAgent(env)"
   ]
  },
  {
   "cell_type": "code",
   "execution_count": 133,
   "id": "d0700bfc-bb4d-4106-9d64-328901544e62",
   "metadata": {},
   "outputs": [
    {
     "name": "stdout",
     "output_type": "stream",
     "text": [
      "Sum rewards:  [-1562.710895651575, -1515.0333736373138, -1351.1537540703969, -1238.7459534659902, -1253.8174643141951, -1262.903158836384, -1309.7919585670418, -1253.0583254833305, -1293.503501157352, -1262.2607220052093]\n"
     ]
    }
   ],
   "source": [
    "rewards = []\n",
    "\n",
    "for _ in range(10):\n",
    "    state = env.reset()\n",
    "    state = state[0]\n",
    "    \n",
    "    trunc = False\n",
    "    cur_reward = 0\n",
    "    \n",
    "    while not trunc:   \n",
    "        action = random_agent.compute_action(state) \n",
    "        (next_state, reward, term, trunc, info) = env.step(action)\n",
    "        state = next_state\n",
    "        cur_reward += reward\n",
    "\n",
    "        if term or trunc:\n",
    "            observation, info = env.reset()\n",
    "    \n",
    "    rewards.append(cur_reward)\n",
    "\n",
    "rewards = [np.sum(rewards[:i+1])/(i+1) for i in range(len(rewards))]\n",
    "print(\"Sum rewards: \",rewards)\n",
    "# env.close()"
   ]
  },
  {
   "cell_type": "markdown",
   "id": "76faa4b7-9765-42b4-a235-ff9f6340461f",
   "metadata": {},
   "source": [
    "##### Heuristic pendulum agent"
   ]
  },
  {
   "cell_type": "code",
   "execution_count": 120,
   "id": "87755dc0-fb1d-454f-aae1-d8a2df5771f2",
   "metadata": {},
   "outputs": [],
   "source": [
    "class HeuristicPendulumAgent:\n",
    "    def __init__(self, env, t):\n",
    "        self.state_size = env.observation_space.shape[0]\n",
    "        self.action_size = env.action_space.shape[0]\n",
    "        self.t = t\n",
    "    def compute_action(self, state):\n",
    "        if state[0] <= 0:\n",
    "            return self.t * np.sign(state[2])\n",
    "        else:\n",
    "            return -self.t * np.sign(state[2])"
   ]
  },
  {
   "cell_type": "code",
   "execution_count": 134,
   "id": "7dc3a7ee-afed-40ed-9b3a-b63fc897c8d1",
   "metadata": {},
   "outputs": [
    {
     "name": "stdout",
     "output_type": "stream",
     "text": [
      "Sum rewards:  [-488.46271208180366, -435.0917091902611, -452.1133174500148, -404.3108460594417, -399.93757798817023, -397.2305920742244, -429.09696849470487, -437.86832474091204, -431.45755063582277, -426.6468442152315]\n"
     ]
    }
   ],
   "source": [
    "heur_agent = HeuristicPendulumAgent(env,0.8)\n",
    "rewards = []\n",
    "\n",
    "for _ in range(10):\n",
    "    state = env.reset()\n",
    "    state = state[0]\n",
    "\n",
    "    trunc = False\n",
    "    cur_reward = 0\n",
    "    \n",
    "    while not trunc:\n",
    "        action = heur_agent.compute_action(state) \n",
    "        (next_state, reward, term, trunc, info) = env.step(action)\n",
    "        state = next_state\n",
    "        cur_reward += reward\n",
    "\n",
    "        if term or trunc:\n",
    "            observation, info = env.reset()\n",
    "            \n",
    "    rewards.append(cur_reward)\n",
    "\n",
    "rewards = [np.sum(rewards[:i+1])/(i+1) for i in range(len(rewards))]\n",
    "print(\"Sum rewards: \",rewards)"
   ]
  },
  {
   "cell_type": "markdown",
   "id": "a99283af-3e3d-48e5-b053-c62d4a014882",
   "metadata": {},
   "source": [
    "Effect of fixed torque"
   ]
  },
  {
   "cell_type": "code",
   "execution_count": 138,
   "id": "63b97b23-9993-4908-803c-ea227bd1100d",
   "metadata": {},
   "outputs": [
    {
     "data": {
      "text/plain": [
       "Text(0, 0.5, 'Avg reward (over 10 runs)')"
      ]
     },
     "execution_count": 138,
     "metadata": {},
     "output_type": "execute_result"
    },
    {
     "data": {
      "image/png": "[encoded data removed]",
      "text/plain": [
       "<Figure size 640x480 with 1 Axes>"
      ]
     },
     "metadata": {},
     "output_type": "display_data"
    }
   ],
   "source": [
    "torques = np.linspace(-1,1,30)\n",
    "avg_rewards = []\n",
    "\n",
    "for t in torques:\n",
    "    heur_agent = HeuristicPendulumAgent(env,t)\n",
    "\n",
    "    rewards = []\n",
    "\n",
    "    for _ in range(10):\n",
    "        state = env.reset()\n",
    "        state = state[0]\n",
    "\n",
    "        trunc = False\n",
    "        cur_reward = 0\n",
    "\n",
    "        while not trunc:\n",
    "            action = heur_agent.compute_action(state) \n",
    "            (next_state, reward, term, trunc, info) = env.step(action)\n",
    "            state = next_state\n",
    "            cur_reward += reward\n",
    "\n",
    "            if term or trunc:\n",
    "                observation, info = env.reset()\n",
    "\n",
    "        rewards.append(cur_reward)\n",
    "    avg_rewards.append(rewards[-1])\n",
    "\n",
    "plt.figure()\n",
    "plt.plot(torques, avg_rewards)\n",
    "plt.xlabel('Fixed torque')\n",
    "plt.ylabel('Avg reward (over 10 runs)')"
   ]
  },
  {
   "cell_type": "code",
   "execution_count": null,
   "id": "9f7b527f-b284-4dd9-b4b6-639a95ea9d89",
   "metadata": {},
   "outputs": [],
   "source": []
  }
 ],
 "metadata": {
  "kernelspec": {
   "display_name": "Python 3 (ipykernel)",
   "language": "python",
   "name": "python3"
  },
  "language_info": {
   "codemirror_mode": {
    "name": "ipython",
    "version": 3
   },
   "file_extension": ".py",
   "mimetype": "text/x-python",
   "name": "python",
   "nbconvert_exporter": "python",
   "pygments_lexer": "ipython3",
   "version": "3.9.13"
  }
 },
 "nbformat": 4,
 "nbformat_minor": 5
}
